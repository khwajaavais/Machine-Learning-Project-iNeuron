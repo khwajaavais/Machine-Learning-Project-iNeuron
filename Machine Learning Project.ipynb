{
 "cells": [
  {
   "cell_type": "markdown",
   "id": "bb97d86c",
   "metadata": {},
   "source": [
    "<h1 align='center'>MACHINE LEARNING PROJECT</h1>\n",
    "<h2 align='center'>EUROPEAN SOCCER REGRESSION ANALYSIS</h2>"
   ]
  },
  {
   "cell_type": "markdown",
   "id": "abb77255",
   "metadata": {},
   "source": [
    "## Packages"
   ]
  },
  {
   "cell_type": "code",
   "execution_count": 1,
   "id": "2f3a2414",
   "metadata": {},
   "outputs": [],
   "source": [
    "import numpy as np\n",
    "import pandas as pd\n",
    "import matplotlib.pyplot as plt\n",
    "import seaborn as sns\n",
    "\n",
    "import sqlite3\n",
    "from sklearn.tree import DecisionTreeRegressor\n",
    "from sklearn.linear_model import LinearRegression\n",
    "from sklearn.model_selection import train_test_split\n",
    "from sklearn.metrics import mean_squared_error\n",
    "from math import sqrt\n",
    "from sklearn.metrics import mean_absolute_error\n",
    "\n",
    "pd.set_option('display.max_columns',80)"
   ]
  },
  {
   "cell_type": "markdown",
   "id": "b184ff49",
   "metadata": {},
   "source": [
    "### Fetching Data from Database"
   ]
  },
  {
   "cell_type": "code",
   "execution_count": 2,
   "id": "8f37fcf2",
   "metadata": {},
   "outputs": [
    {
     "data": {
      "text/html": [
       "<div>\n",
       "<style scoped>\n",
       "    .dataframe tbody tr th:only-of-type {\n",
       "        vertical-align: middle;\n",
       "    }\n",
       "\n",
       "    .dataframe tbody tr th {\n",
       "        vertical-align: top;\n",
       "    }\n",
       "\n",
       "    .dataframe thead th {\n",
       "        text-align: right;\n",
       "    }\n",
       "</style>\n",
       "<table border=\"1\" class=\"dataframe\">\n",
       "  <thead>\n",
       "    <tr style=\"text-align: right;\">\n",
       "      <th></th>\n",
       "      <th>id</th>\n",
       "      <th>player_fifa_api_id</th>\n",
       "      <th>player_api_id</th>\n",
       "      <th>date</th>\n",
       "      <th>overall_rating</th>\n",
       "      <th>potential</th>\n",
       "      <th>preferred_foot</th>\n",
       "      <th>attacking_work_rate</th>\n",
       "      <th>defensive_work_rate</th>\n",
       "      <th>crossing</th>\n",
       "      <th>finishing</th>\n",
       "      <th>heading_accuracy</th>\n",
       "      <th>short_passing</th>\n",
       "      <th>volleys</th>\n",
       "      <th>dribbling</th>\n",
       "      <th>curve</th>\n",
       "      <th>free_kick_accuracy</th>\n",
       "      <th>long_passing</th>\n",
       "      <th>ball_control</th>\n",
       "      <th>acceleration</th>\n",
       "      <th>sprint_speed</th>\n",
       "      <th>agility</th>\n",
       "      <th>reactions</th>\n",
       "      <th>balance</th>\n",
       "      <th>shot_power</th>\n",
       "      <th>jumping</th>\n",
       "      <th>stamina</th>\n",
       "      <th>strength</th>\n",
       "      <th>long_shots</th>\n",
       "      <th>aggression</th>\n",
       "      <th>interceptions</th>\n",
       "      <th>positioning</th>\n",
       "      <th>vision</th>\n",
       "      <th>penalties</th>\n",
       "      <th>marking</th>\n",
       "      <th>standing_tackle</th>\n",
       "      <th>sliding_tackle</th>\n",
       "      <th>gk_diving</th>\n",
       "      <th>gk_handling</th>\n",
       "      <th>gk_kicking</th>\n",
       "      <th>gk_positioning</th>\n",
       "      <th>gk_reflexes</th>\n",
       "    </tr>\n",
       "  </thead>\n",
       "  <tbody>\n",
       "    <tr>\n",
       "      <th>0</th>\n",
       "      <td>1</td>\n",
       "      <td>218353</td>\n",
       "      <td>505942</td>\n",
       "      <td>2016-02-18 00:00:00</td>\n",
       "      <td>67.0</td>\n",
       "      <td>71.0</td>\n",
       "      <td>right</td>\n",
       "      <td>medium</td>\n",
       "      <td>medium</td>\n",
       "      <td>49.0</td>\n",
       "      <td>44.0</td>\n",
       "      <td>71.0</td>\n",
       "      <td>61.0</td>\n",
       "      <td>44.0</td>\n",
       "      <td>51.0</td>\n",
       "      <td>45.0</td>\n",
       "      <td>39.0</td>\n",
       "      <td>64.0</td>\n",
       "      <td>49.0</td>\n",
       "      <td>60.0</td>\n",
       "      <td>64.0</td>\n",
       "      <td>59.0</td>\n",
       "      <td>47.0</td>\n",
       "      <td>65.0</td>\n",
       "      <td>55.0</td>\n",
       "      <td>58.0</td>\n",
       "      <td>54.0</td>\n",
       "      <td>76.0</td>\n",
       "      <td>35.0</td>\n",
       "      <td>71.0</td>\n",
       "      <td>70.0</td>\n",
       "      <td>45.0</td>\n",
       "      <td>54.0</td>\n",
       "      <td>48.0</td>\n",
       "      <td>65.0</td>\n",
       "      <td>69.0</td>\n",
       "      <td>69.0</td>\n",
       "      <td>6.0</td>\n",
       "      <td>11.0</td>\n",
       "      <td>10.0</td>\n",
       "      <td>8.0</td>\n",
       "      <td>8.0</td>\n",
       "    </tr>\n",
       "    <tr>\n",
       "      <th>1</th>\n",
       "      <td>2</td>\n",
       "      <td>218353</td>\n",
       "      <td>505942</td>\n",
       "      <td>2015-11-19 00:00:00</td>\n",
       "      <td>67.0</td>\n",
       "      <td>71.0</td>\n",
       "      <td>right</td>\n",
       "      <td>medium</td>\n",
       "      <td>medium</td>\n",
       "      <td>49.0</td>\n",
       "      <td>44.0</td>\n",
       "      <td>71.0</td>\n",
       "      <td>61.0</td>\n",
       "      <td>44.0</td>\n",
       "      <td>51.0</td>\n",
       "      <td>45.0</td>\n",
       "      <td>39.0</td>\n",
       "      <td>64.0</td>\n",
       "      <td>49.0</td>\n",
       "      <td>60.0</td>\n",
       "      <td>64.0</td>\n",
       "      <td>59.0</td>\n",
       "      <td>47.0</td>\n",
       "      <td>65.0</td>\n",
       "      <td>55.0</td>\n",
       "      <td>58.0</td>\n",
       "      <td>54.0</td>\n",
       "      <td>76.0</td>\n",
       "      <td>35.0</td>\n",
       "      <td>71.0</td>\n",
       "      <td>70.0</td>\n",
       "      <td>45.0</td>\n",
       "      <td>54.0</td>\n",
       "      <td>48.0</td>\n",
       "      <td>65.0</td>\n",
       "      <td>69.0</td>\n",
       "      <td>69.0</td>\n",
       "      <td>6.0</td>\n",
       "      <td>11.0</td>\n",
       "      <td>10.0</td>\n",
       "      <td>8.0</td>\n",
       "      <td>8.0</td>\n",
       "    </tr>\n",
       "  </tbody>\n",
       "</table>\n",
       "</div>"
      ],
      "text/plain": [
       "   id  player_fifa_api_id  player_api_id                 date  overall_rating  \\\n",
       "0   1              218353         505942  2016-02-18 00:00:00            67.0   \n",
       "1   2              218353         505942  2015-11-19 00:00:00            67.0   \n",
       "\n",
       "   potential preferred_foot attacking_work_rate defensive_work_rate  crossing  \\\n",
       "0       71.0          right              medium              medium      49.0   \n",
       "1       71.0          right              medium              medium      49.0   \n",
       "\n",
       "   finishing  heading_accuracy  short_passing  volleys  dribbling  curve  \\\n",
       "0       44.0              71.0           61.0     44.0       51.0   45.0   \n",
       "1       44.0              71.0           61.0     44.0       51.0   45.0   \n",
       "\n",
       "   free_kick_accuracy  long_passing  ball_control  acceleration  sprint_speed  \\\n",
       "0                39.0          64.0          49.0          60.0          64.0   \n",
       "1                39.0          64.0          49.0          60.0          64.0   \n",
       "\n",
       "   agility  reactions  balance  shot_power  jumping  stamina  strength  \\\n",
       "0     59.0       47.0     65.0        55.0     58.0     54.0      76.0   \n",
       "1     59.0       47.0     65.0        55.0     58.0     54.0      76.0   \n",
       "\n",
       "   long_shots  aggression  interceptions  positioning  vision  penalties  \\\n",
       "0        35.0        71.0           70.0         45.0    54.0       48.0   \n",
       "1        35.0        71.0           70.0         45.0    54.0       48.0   \n",
       "\n",
       "   marking  standing_tackle  sliding_tackle  gk_diving  gk_handling  \\\n",
       "0     65.0             69.0            69.0        6.0         11.0   \n",
       "1     65.0             69.0            69.0        6.0         11.0   \n",
       "\n",
       "   gk_kicking  gk_positioning  gk_reflexes  \n",
       "0        10.0             8.0          8.0  \n",
       "1        10.0             8.0          8.0  "
      ]
     },
     "execution_count": 2,
     "metadata": {},
     "output_type": "execute_result"
    }
   ],
   "source": [
    "db = sqlite3.connect('Data/database.sqlite')\n",
    "df = pd.read_sql_query(\"SELECT * FROM Player_Attributes\", db)\n",
    "df.head(2)"
   ]
  },
  {
   "cell_type": "code",
   "execution_count": 3,
   "id": "6feea7de",
   "metadata": {},
   "outputs": [
    {
     "data": {
      "text/plain": [
       "(183978, 42)"
      ]
     },
     "execution_count": 3,
     "metadata": {},
     "output_type": "execute_result"
    }
   ],
   "source": [
    "df.shape"
   ]
  },
  {
   "cell_type": "code",
   "execution_count": 4,
   "id": "04800e64",
   "metadata": {},
   "outputs": [],
   "source": [
    "df.to_csv('European Soccer Data.csv')"
   ]
  },
  {
   "cell_type": "code",
   "execution_count": 5,
   "id": "1d5c4503",
   "metadata": {},
   "outputs": [
    {
     "name": "stdout",
     "output_type": "stream",
     "text": [
      "\n",
      "preferred_foot\n",
      "Unique Elements : ['right' 'left' None] \n",
      "No.of Unique Elements : 3\n",
      "\n",
      "attacking_work_rate\n",
      "Unique Elements : ['medium' 'high' None 'low' 'None' 'le' 'norm' 'stoc' 'y'] \n",
      "No.of Unique Elements : 9\n",
      "\n",
      "defensive_work_rate\n",
      "Unique Elements : ['medium' 'high' 'low' '_0' None '5' 'ean' 'o' '1' 'ormal' '7' '2' '8' '4'\n",
      " 'tocky' '0' '3' '6' '9' 'es'] \n",
      "No.of Unique Elements : 20\n"
     ]
    }
   ],
   "source": [
    "# Checking for Categoriccal Features\n",
    "\n",
    "for i in df.columns:\n",
    "    if (i == 'date') :\n",
    "        continue\n",
    "    elif df[i].dtypes == object:\n",
    "        print(f'\\n{i}\\nUnique Elements : {df[i].unique()} \\nNo.of Unique Elements : {len(df[i].unique())}')"
   ]
  },
  {
   "cell_type": "code",
   "execution_count": 6,
   "id": "f2551589",
   "metadata": {},
   "outputs": [
    {
     "data": {
      "text/html": [
       "<div>\n",
       "<style scoped>\n",
       "    .dataframe tbody tr th:only-of-type {\n",
       "        vertical-align: middle;\n",
       "    }\n",
       "\n",
       "    .dataframe tbody tr th {\n",
       "        vertical-align: top;\n",
       "    }\n",
       "\n",
       "    .dataframe thead th {\n",
       "        text-align: right;\n",
       "    }\n",
       "</style>\n",
       "<table border=\"1\" class=\"dataframe\">\n",
       "  <thead>\n",
       "    <tr style=\"text-align: right;\">\n",
       "      <th></th>\n",
       "      <th>Count</th>\n",
       "      <th>%</th>\n",
       "    </tr>\n",
       "  </thead>\n",
       "  <tbody>\n",
       "    <tr>\n",
       "      <th>attacking_work_rate</th>\n",
       "      <td>3230</td>\n",
       "      <td>1.755645</td>\n",
       "    </tr>\n",
       "    <tr>\n",
       "      <th>agility</th>\n",
       "      <td>2713</td>\n",
       "      <td>1.474633</td>\n",
       "    </tr>\n",
       "    <tr>\n",
       "      <th>jumping</th>\n",
       "      <td>2713</td>\n",
       "      <td>1.474633</td>\n",
       "    </tr>\n",
       "    <tr>\n",
       "      <th>curve</th>\n",
       "      <td>2713</td>\n",
       "      <td>1.474633</td>\n",
       "    </tr>\n",
       "    <tr>\n",
       "      <th>volleys</th>\n",
       "      <td>2713</td>\n",
       "      <td>1.474633</td>\n",
       "    </tr>\n",
       "    <tr>\n",
       "      <th>balance</th>\n",
       "      <td>2713</td>\n",
       "      <td>1.474633</td>\n",
       "    </tr>\n",
       "    <tr>\n",
       "      <th>vision</th>\n",
       "      <td>2713</td>\n",
       "      <td>1.474633</td>\n",
       "    </tr>\n",
       "    <tr>\n",
       "      <th>sliding_tackle</th>\n",
       "      <td>2713</td>\n",
       "      <td>1.474633</td>\n",
       "    </tr>\n",
       "    <tr>\n",
       "      <th>standing_tackle</th>\n",
       "      <td>836</td>\n",
       "      <td>0.454402</td>\n",
       "    </tr>\n",
       "    <tr>\n",
       "      <th>marking</th>\n",
       "      <td>836</td>\n",
       "      <td>0.454402</td>\n",
       "    </tr>\n",
       "  </tbody>\n",
       "</table>\n",
       "</div>"
      ],
      "text/plain": [
       "                     Count         %\n",
       "attacking_work_rate   3230  1.755645\n",
       "agility               2713  1.474633\n",
       "jumping               2713  1.474633\n",
       "curve                 2713  1.474633\n",
       "volleys               2713  1.474633\n",
       "balance               2713  1.474633\n",
       "vision                2713  1.474633\n",
       "sliding_tackle        2713  1.474633\n",
       "standing_tackle        836  0.454402\n",
       "marking                836  0.454402"
      ]
     },
     "execution_count": 6,
     "metadata": {},
     "output_type": "execute_result"
    }
   ],
   "source": [
    "# Checking for NULL Values\n",
    "\n",
    "df_null = pd.DataFrame()\n",
    "df_null['Count'] = df.isnull().sum()\n",
    "df_null['%'] = (df_null['Count']/df.shape[0]) * 100\n",
    "df_null.sort_values(by='%', inplace=True, ascending=False)\n",
    "df_null.head(10)"
   ]
  },
  {
   "cell_type": "code",
   "execution_count": 7,
   "id": "71b21143",
   "metadata": {},
   "outputs": [
    {
     "data": {
      "text/html": [
       "<div>\n",
       "<style scoped>\n",
       "    .dataframe tbody tr th:only-of-type {\n",
       "        vertical-align: middle;\n",
       "    }\n",
       "\n",
       "    .dataframe tbody tr th {\n",
       "        vertical-align: top;\n",
       "    }\n",
       "\n",
       "    .dataframe thead th {\n",
       "        text-align: right;\n",
       "    }\n",
       "</style>\n",
       "<table border=\"1\" class=\"dataframe\">\n",
       "  <thead>\n",
       "    <tr style=\"text-align: right;\">\n",
       "      <th></th>\n",
       "      <th>mean</th>\n",
       "      <th>50%</th>\n",
       "      <th>difference</th>\n",
       "    </tr>\n",
       "  </thead>\n",
       "  <tbody>\n",
       "    <tr>\n",
       "      <th>id</th>\n",
       "      <td>91989.500000</td>\n",
       "      <td>91989.5</td>\n",
       "      <td>0.000000</td>\n",
       "    </tr>\n",
       "    <tr>\n",
       "      <th>player_fifa_api_id</th>\n",
       "      <td>165671.524291</td>\n",
       "      <td>183488.0</td>\n",
       "      <td>17816.475709</td>\n",
       "    </tr>\n",
       "    <tr>\n",
       "      <th>player_api_id</th>\n",
       "      <td>135900.617324</td>\n",
       "      <td>77741.0</td>\n",
       "      <td>58159.617324</td>\n",
       "    </tr>\n",
       "    <tr>\n",
       "      <th>overall_rating</th>\n",
       "      <td>68.600015</td>\n",
       "      <td>69.0</td>\n",
       "      <td>0.399985</td>\n",
       "    </tr>\n",
       "    <tr>\n",
       "      <th>potential</th>\n",
       "      <td>73.460353</td>\n",
       "      <td>74.0</td>\n",
       "      <td>0.539647</td>\n",
       "    </tr>\n",
       "    <tr>\n",
       "      <th>crossing</th>\n",
       "      <td>55.086883</td>\n",
       "      <td>59.0</td>\n",
       "      <td>3.913117</td>\n",
       "    </tr>\n",
       "    <tr>\n",
       "      <th>finishing</th>\n",
       "      <td>49.921078</td>\n",
       "      <td>53.0</td>\n",
       "      <td>3.078922</td>\n",
       "    </tr>\n",
       "    <tr>\n",
       "      <th>heading_accuracy</th>\n",
       "      <td>57.266023</td>\n",
       "      <td>60.0</td>\n",
       "      <td>2.733977</td>\n",
       "    </tr>\n",
       "    <tr>\n",
       "      <th>short_passing</th>\n",
       "      <td>62.429672</td>\n",
       "      <td>65.0</td>\n",
       "      <td>2.570328</td>\n",
       "    </tr>\n",
       "    <tr>\n",
       "      <th>volleys</th>\n",
       "      <td>49.468436</td>\n",
       "      <td>52.0</td>\n",
       "      <td>2.531564</td>\n",
       "    </tr>\n",
       "  </tbody>\n",
       "</table>\n",
       "</div>"
      ],
      "text/plain": [
       "                             mean       50%    difference\n",
       "id                   91989.500000   91989.5      0.000000\n",
       "player_fifa_api_id  165671.524291  183488.0  17816.475709\n",
       "player_api_id       135900.617324   77741.0  58159.617324\n",
       "overall_rating          68.600015      69.0      0.399985\n",
       "potential               73.460353      74.0      0.539647\n",
       "crossing                55.086883      59.0      3.913117\n",
       "finishing               49.921078      53.0      3.078922\n",
       "heading_accuracy        57.266023      60.0      2.733977\n",
       "short_passing           62.429672      65.0      2.570328\n",
       "volleys                 49.468436      52.0      2.531564"
      ]
     },
     "execution_count": 7,
     "metadata": {},
     "output_type": "execute_result"
    }
   ],
   "source": [
    "df_mean_median = df.describe().T[['mean', '50%']]\n",
    "df_mean_median['difference'] = abs(df_mean_median['mean'] - df_mean_median['50%'])\n",
    "df_mean_median.head(10)"
   ]
  },
  {
   "cell_type": "code",
   "execution_count": 8,
   "id": "98090fd1",
   "metadata": {},
   "outputs": [],
   "source": [
    "df_shape_before_dropping = df.shape"
   ]
  },
  {
   "cell_type": "code",
   "execution_count": 9,
   "id": "e860de3e",
   "metadata": {},
   "outputs": [],
   "source": [
    "df.dropna(inplace=True)"
   ]
  },
  {
   "cell_type": "code",
   "execution_count": 10,
   "id": "f51e71f6",
   "metadata": {},
   "outputs": [],
   "source": [
    "df_shape_after_dropping = df.shape"
   ]
  },
  {
   "cell_type": "code",
   "execution_count": 11,
   "id": "cfd3c92b",
   "metadata": {},
   "outputs": [
    {
     "name": "stdout",
     "output_type": "stream",
     "text": [
      "Drop(%) : 1.97%\n"
     ]
    }
   ],
   "source": [
    "drop_percentage = ((df_shape_before_dropping[0] - df_shape_after_dropping[0])/ df_shape_before_dropping[0])*100\n",
    "print(f'Drop(%) : {round(drop_percentage,2)}%')"
   ]
  },
  {
   "cell_type": "code",
   "execution_count": 12,
   "id": "28620694",
   "metadata": {},
   "outputs": [
    {
     "data": {
      "text/html": [
       "<div>\n",
       "<style scoped>\n",
       "    .dataframe tbody tr th:only-of-type {\n",
       "        vertical-align: middle;\n",
       "    }\n",
       "\n",
       "    .dataframe tbody tr th {\n",
       "        vertical-align: top;\n",
       "    }\n",
       "\n",
       "    .dataframe thead th {\n",
       "        text-align: right;\n",
       "    }\n",
       "</style>\n",
       "<table border=\"1\" class=\"dataframe\">\n",
       "  <thead>\n",
       "    <tr style=\"text-align: right;\">\n",
       "      <th></th>\n",
       "      <th>id</th>\n",
       "      <th>player_fifa_api_id</th>\n",
       "      <th>player_api_id</th>\n",
       "      <th>date</th>\n",
       "      <th>overall_rating</th>\n",
       "      <th>potential</th>\n",
       "      <th>preferred_foot</th>\n",
       "      <th>attacking_work_rate</th>\n",
       "      <th>defensive_work_rate</th>\n",
       "      <th>crossing</th>\n",
       "      <th>finishing</th>\n",
       "      <th>heading_accuracy</th>\n",
       "      <th>short_passing</th>\n",
       "      <th>volleys</th>\n",
       "      <th>dribbling</th>\n",
       "      <th>curve</th>\n",
       "      <th>free_kick_accuracy</th>\n",
       "      <th>long_passing</th>\n",
       "      <th>ball_control</th>\n",
       "      <th>acceleration</th>\n",
       "      <th>sprint_speed</th>\n",
       "      <th>agility</th>\n",
       "      <th>reactions</th>\n",
       "      <th>balance</th>\n",
       "      <th>shot_power</th>\n",
       "      <th>jumping</th>\n",
       "      <th>stamina</th>\n",
       "      <th>strength</th>\n",
       "      <th>long_shots</th>\n",
       "      <th>aggression</th>\n",
       "      <th>interceptions</th>\n",
       "      <th>positioning</th>\n",
       "      <th>vision</th>\n",
       "      <th>penalties</th>\n",
       "      <th>marking</th>\n",
       "      <th>standing_tackle</th>\n",
       "      <th>sliding_tackle</th>\n",
       "      <th>gk_diving</th>\n",
       "      <th>gk_handling</th>\n",
       "      <th>gk_kicking</th>\n",
       "      <th>gk_positioning</th>\n",
       "      <th>gk_reflexes</th>\n",
       "    </tr>\n",
       "  </thead>\n",
       "  <tbody>\n",
       "    <tr>\n",
       "      <th>0</th>\n",
       "      <td>1</td>\n",
       "      <td>218353</td>\n",
       "      <td>505942</td>\n",
       "      <td>2016-02-18 00:00:00</td>\n",
       "      <td>67.0</td>\n",
       "      <td>71.0</td>\n",
       "      <td>right</td>\n",
       "      <td>medium</td>\n",
       "      <td>medium</td>\n",
       "      <td>49.0</td>\n",
       "      <td>44.0</td>\n",
       "      <td>71.0</td>\n",
       "      <td>61.0</td>\n",
       "      <td>44.0</td>\n",
       "      <td>51.0</td>\n",
       "      <td>45.0</td>\n",
       "      <td>39.0</td>\n",
       "      <td>64.0</td>\n",
       "      <td>49.0</td>\n",
       "      <td>60.0</td>\n",
       "      <td>64.0</td>\n",
       "      <td>59.0</td>\n",
       "      <td>47.0</td>\n",
       "      <td>65.0</td>\n",
       "      <td>55.0</td>\n",
       "      <td>58.0</td>\n",
       "      <td>54.0</td>\n",
       "      <td>76.0</td>\n",
       "      <td>35.0</td>\n",
       "      <td>71.0</td>\n",
       "      <td>70.0</td>\n",
       "      <td>45.0</td>\n",
       "      <td>54.0</td>\n",
       "      <td>48.0</td>\n",
       "      <td>65.0</td>\n",
       "      <td>69.0</td>\n",
       "      <td>69.0</td>\n",
       "      <td>6.0</td>\n",
       "      <td>11.0</td>\n",
       "      <td>10.0</td>\n",
       "      <td>8.0</td>\n",
       "      <td>8.0</td>\n",
       "    </tr>\n",
       "  </tbody>\n",
       "</table>\n",
       "</div>"
      ],
      "text/plain": [
       "   id  player_fifa_api_id  player_api_id                 date  overall_rating  \\\n",
       "0   1              218353         505942  2016-02-18 00:00:00            67.0   \n",
       "\n",
       "   potential preferred_foot attacking_work_rate defensive_work_rate  crossing  \\\n",
       "0       71.0          right              medium              medium      49.0   \n",
       "\n",
       "   finishing  heading_accuracy  short_passing  volleys  dribbling  curve  \\\n",
       "0       44.0              71.0           61.0     44.0       51.0   45.0   \n",
       "\n",
       "   free_kick_accuracy  long_passing  ball_control  acceleration  sprint_speed  \\\n",
       "0                39.0          64.0          49.0          60.0          64.0   \n",
       "\n",
       "   agility  reactions  balance  shot_power  jumping  stamina  strength  \\\n",
       "0     59.0       47.0     65.0        55.0     58.0     54.0      76.0   \n",
       "\n",
       "   long_shots  aggression  interceptions  positioning  vision  penalties  \\\n",
       "0        35.0        71.0           70.0         45.0    54.0       48.0   \n",
       "\n",
       "   marking  standing_tackle  sliding_tackle  gk_diving  gk_handling  \\\n",
       "0     65.0             69.0            69.0        6.0         11.0   \n",
       "\n",
       "   gk_kicking  gk_positioning  gk_reflexes  \n",
       "0        10.0             8.0          8.0  "
      ]
     },
     "execution_count": 12,
     "metadata": {},
     "output_type": "execute_result"
    }
   ],
   "source": [
    "df.head(1)"
   ]
  },
  {
   "cell_type": "markdown",
   "id": "4cb37ab6",
   "metadata": {},
   "source": [
    "### Converting Categorical Features to Numerical"
   ]
  },
  {
   "cell_type": "code",
   "execution_count": 13,
   "id": "bf98a619",
   "metadata": {},
   "outputs": [],
   "source": [
    "foot_map = {'right': 1, 'left': 0}\n",
    "df['preferred_foot'] = df['preferred_foot'].map(foot_map)"
   ]
  },
  {
   "cell_type": "code",
   "execution_count": 14,
   "id": "baab6413",
   "metadata": {},
   "outputs": [],
   "source": [
    "attacking_work_rate_map = {'high': 5, 'medium':4, 'low':3, 'None':2, 'norm':1, 'y':1,'le':1, 'stoc':1}\n",
    "df['attacking_work_rate'] = df['attacking_work_rate'].map(attacking_work_rate_map)"
   ]
  },
  {
   "cell_type": "code",
   "execution_count": 15,
   "id": "693c1085",
   "metadata": {},
   "outputs": [],
   "source": [
    "defensive_work_rate_map = {'high':4, 'medium':3, 'low' : 2, '_0' : 1, 'o' : 1, '1' : 1, 'ormal' : 1, '2' : 1, '3' : 1, \n",
    "                           '5' : 1, '7' : 1 ,'6' : 1, '0' : 1, '9' : 1, '4' : 1, 'es' : 1, 'ean' : 1, 'tocky' : 1, '8' : 1}\n",
    "\n",
    "df['defensive_work_rate'] = df['defensive_work_rate'].map(defensive_work_rate_map)"
   ]
  },
  {
   "cell_type": "code",
   "execution_count": 16,
   "id": "9c789ca7",
   "metadata": {},
   "outputs": [
    {
     "name": "stdout",
     "output_type": "stream",
     "text": [
      "overall_rating\tNo.of Unique Elements : 61\n",
      "potential\tNo.of Unique Elements : 56\n",
      "crossing\tNo.of Unique Elements : 95\n",
      "finishing\tNo.of Unique Elements : 97\n",
      "heading_accuracy\tNo.of Unique Elements : 96\n",
      "short_passing\tNo.of Unique Elements : 95\n",
      "volleys\tNo.of Unique Elements : 93\n",
      "dribbling\tNo.of Unique Elements : 97\n",
      "curve\tNo.of Unique Elements : 92\n",
      "free_kick_accuracy\tNo.of Unique Elements : 97\n",
      "long_passing\tNo.of Unique Elements : 95\n",
      "ball_control\tNo.of Unique Elements : 93\n",
      "acceleration\tNo.of Unique Elements : 86\n",
      "sprint_speed\tNo.of Unique Elements : 85\n",
      "agility\tNo.of Unique Elements : 81\n",
      "reactions\tNo.of Unique Elements : 78\n",
      "balance\tNo.of Unique Elements : 81\n",
      "shot_power\tNo.of Unique Elements : 96\n",
      "jumping\tNo.of Unique Elements : 79\n",
      "stamina\tNo.of Unique Elements : 84\n",
      "strength\tNo.of Unique Elements : 82\n",
      "long_shots\tNo.of Unique Elements : 96\n",
      "aggression\tNo.of Unique Elements : 91\n",
      "interceptions\tNo.of Unique Elements : 96\n",
      "positioning\tNo.of Unique Elements : 94\n",
      "vision\tNo.of Unique Elements : 97\n",
      "penalties\tNo.of Unique Elements : 94\n",
      "marking\tNo.of Unique Elements : 94\n",
      "standing_tackle\tNo.of Unique Elements : 95\n",
      "sliding_tackle\tNo.of Unique Elements : 94\n",
      "gk_diving\tNo.of Unique Elements : 93\n",
      "gk_handling\tNo.of Unique Elements : 89\n",
      "gk_kicking\tNo.of Unique Elements : 97\n",
      "gk_positioning\tNo.of Unique Elements : 94\n",
      "gk_reflexes\tNo.of Unique Elements : 92\n"
     ]
    }
   ],
   "source": [
    "for i in df.columns:\n",
    "    if (i == 'date') :\n",
    "        continue\n",
    "    elif df[i].dtypes == int or df[i].dtypes == float:\n",
    "        print(f'{i}\\tNo.of Unique Elements : {len(df[i].unique())}')"
   ]
  },
  {
   "cell_type": "code",
   "execution_count": 17,
   "id": "f20d1591",
   "metadata": {},
   "outputs": [],
   "source": [
    "df.drop(['id','player_fifa_api_id', 'player_api_id', 'date'], axis=1, inplace=True)"
   ]
  },
  {
   "cell_type": "code",
   "execution_count": 18,
   "id": "81df00b8",
   "metadata": {},
   "outputs": [
    {
     "data": {
      "text/html": [
       "<div>\n",
       "<style scoped>\n",
       "    .dataframe tbody tr th:only-of-type {\n",
       "        vertical-align: middle;\n",
       "    }\n",
       "\n",
       "    .dataframe tbody tr th {\n",
       "        vertical-align: top;\n",
       "    }\n",
       "\n",
       "    .dataframe thead th {\n",
       "        text-align: right;\n",
       "    }\n",
       "</style>\n",
       "<table border=\"1\" class=\"dataframe\">\n",
       "  <thead>\n",
       "    <tr style=\"text-align: right;\">\n",
       "      <th></th>\n",
       "      <th>overall_rating</th>\n",
       "      <th>potential</th>\n",
       "      <th>preferred_foot</th>\n",
       "      <th>attacking_work_rate</th>\n",
       "      <th>defensive_work_rate</th>\n",
       "      <th>crossing</th>\n",
       "      <th>finishing</th>\n",
       "      <th>heading_accuracy</th>\n",
       "      <th>short_passing</th>\n",
       "      <th>volleys</th>\n",
       "      <th>dribbling</th>\n",
       "      <th>curve</th>\n",
       "      <th>free_kick_accuracy</th>\n",
       "      <th>long_passing</th>\n",
       "      <th>ball_control</th>\n",
       "      <th>acceleration</th>\n",
       "      <th>sprint_speed</th>\n",
       "      <th>agility</th>\n",
       "      <th>reactions</th>\n",
       "      <th>balance</th>\n",
       "      <th>shot_power</th>\n",
       "      <th>jumping</th>\n",
       "      <th>stamina</th>\n",
       "      <th>strength</th>\n",
       "      <th>long_shots</th>\n",
       "      <th>aggression</th>\n",
       "      <th>interceptions</th>\n",
       "      <th>positioning</th>\n",
       "      <th>vision</th>\n",
       "      <th>penalties</th>\n",
       "      <th>marking</th>\n",
       "      <th>standing_tackle</th>\n",
       "      <th>sliding_tackle</th>\n",
       "      <th>gk_diving</th>\n",
       "      <th>gk_handling</th>\n",
       "      <th>gk_kicking</th>\n",
       "      <th>gk_positioning</th>\n",
       "      <th>gk_reflexes</th>\n",
       "    </tr>\n",
       "  </thead>\n",
       "  <tbody>\n",
       "    <tr>\n",
       "      <th>0</th>\n",
       "      <td>67.0</td>\n",
       "      <td>71.0</td>\n",
       "      <td>1</td>\n",
       "      <td>4</td>\n",
       "      <td>3</td>\n",
       "      <td>49.0</td>\n",
       "      <td>44.0</td>\n",
       "      <td>71.0</td>\n",
       "      <td>61.0</td>\n",
       "      <td>44.0</td>\n",
       "      <td>51.0</td>\n",
       "      <td>45.0</td>\n",
       "      <td>39.0</td>\n",
       "      <td>64.0</td>\n",
       "      <td>49.0</td>\n",
       "      <td>60.0</td>\n",
       "      <td>64.0</td>\n",
       "      <td>59.0</td>\n",
       "      <td>47.0</td>\n",
       "      <td>65.0</td>\n",
       "      <td>55.0</td>\n",
       "      <td>58.0</td>\n",
       "      <td>54.0</td>\n",
       "      <td>76.0</td>\n",
       "      <td>35.0</td>\n",
       "      <td>71.0</td>\n",
       "      <td>70.0</td>\n",
       "      <td>45.0</td>\n",
       "      <td>54.0</td>\n",
       "      <td>48.0</td>\n",
       "      <td>65.0</td>\n",
       "      <td>69.0</td>\n",
       "      <td>69.0</td>\n",
       "      <td>6.0</td>\n",
       "      <td>11.0</td>\n",
       "      <td>10.0</td>\n",
       "      <td>8.0</td>\n",
       "      <td>8.0</td>\n",
       "    </tr>\n",
       "    <tr>\n",
       "      <th>1</th>\n",
       "      <td>67.0</td>\n",
       "      <td>71.0</td>\n",
       "      <td>1</td>\n",
       "      <td>4</td>\n",
       "      <td>3</td>\n",
       "      <td>49.0</td>\n",
       "      <td>44.0</td>\n",
       "      <td>71.0</td>\n",
       "      <td>61.0</td>\n",
       "      <td>44.0</td>\n",
       "      <td>51.0</td>\n",
       "      <td>45.0</td>\n",
       "      <td>39.0</td>\n",
       "      <td>64.0</td>\n",
       "      <td>49.0</td>\n",
       "      <td>60.0</td>\n",
       "      <td>64.0</td>\n",
       "      <td>59.0</td>\n",
       "      <td>47.0</td>\n",
       "      <td>65.0</td>\n",
       "      <td>55.0</td>\n",
       "      <td>58.0</td>\n",
       "      <td>54.0</td>\n",
       "      <td>76.0</td>\n",
       "      <td>35.0</td>\n",
       "      <td>71.0</td>\n",
       "      <td>70.0</td>\n",
       "      <td>45.0</td>\n",
       "      <td>54.0</td>\n",
       "      <td>48.0</td>\n",
       "      <td>65.0</td>\n",
       "      <td>69.0</td>\n",
       "      <td>69.0</td>\n",
       "      <td>6.0</td>\n",
       "      <td>11.0</td>\n",
       "      <td>10.0</td>\n",
       "      <td>8.0</td>\n",
       "      <td>8.0</td>\n",
       "    </tr>\n",
       "  </tbody>\n",
       "</table>\n",
       "</div>"
      ],
      "text/plain": [
       "   overall_rating  potential  preferred_foot  attacking_work_rate  \\\n",
       "0            67.0       71.0               1                    4   \n",
       "1            67.0       71.0               1                    4   \n",
       "\n",
       "   defensive_work_rate  crossing  finishing  heading_accuracy  short_passing  \\\n",
       "0                    3      49.0       44.0              71.0           61.0   \n",
       "1                    3      49.0       44.0              71.0           61.0   \n",
       "\n",
       "   volleys  dribbling  curve  free_kick_accuracy  long_passing  ball_control  \\\n",
       "0     44.0       51.0   45.0                39.0          64.0          49.0   \n",
       "1     44.0       51.0   45.0                39.0          64.0          49.0   \n",
       "\n",
       "   acceleration  sprint_speed  agility  reactions  balance  shot_power  \\\n",
       "0          60.0          64.0     59.0       47.0     65.0        55.0   \n",
       "1          60.0          64.0     59.0       47.0     65.0        55.0   \n",
       "\n",
       "   jumping  stamina  strength  long_shots  aggression  interceptions  \\\n",
       "0     58.0     54.0      76.0        35.0        71.0           70.0   \n",
       "1     58.0     54.0      76.0        35.0        71.0           70.0   \n",
       "\n",
       "   positioning  vision  penalties  marking  standing_tackle  sliding_tackle  \\\n",
       "0         45.0    54.0       48.0     65.0             69.0            69.0   \n",
       "1         45.0    54.0       48.0     65.0             69.0            69.0   \n",
       "\n",
       "   gk_diving  gk_handling  gk_kicking  gk_positioning  gk_reflexes  \n",
       "0        6.0         11.0        10.0             8.0          8.0  \n",
       "1        6.0         11.0        10.0             8.0          8.0  "
      ]
     },
     "execution_count": 18,
     "metadata": {},
     "output_type": "execute_result"
    }
   ],
   "source": [
    "df.head(2)"
   ]
  },
  {
   "cell_type": "code",
   "execution_count": null,
   "id": "21437832",
   "metadata": {},
   "outputs": [],
   "source": []
  },
  {
   "cell_type": "markdown",
   "id": "fdd5b702",
   "metadata": {},
   "source": [
    "#### Defining the Dependable n the Independent Variables/Features"
   ]
  },
  {
   "cell_type": "code",
   "execution_count": 19,
   "id": "031eddd9",
   "metadata": {},
   "outputs": [],
   "source": [
    "X = df.drop(['overall_rating'], axis=1)\n",
    "Y = df['overall_rating']"
   ]
  },
  {
   "cell_type": "markdown",
   "id": "1e67aff3",
   "metadata": {},
   "source": [
    "#### Train Test Split"
   ]
  },
  {
   "cell_type": "code",
   "execution_count": 20,
   "id": "dfc87834",
   "metadata": {},
   "outputs": [],
   "source": [
    "X_train, X_test, y_train, y_test = train_test_split(X, Y, test_size=0.3)"
   ]
  },
  {
   "cell_type": "markdown",
   "id": "e5715576",
   "metadata": {},
   "source": [
    "#### Linear Regression: Fit a model to the training set"
   ]
  },
  {
   "cell_type": "code",
   "execution_count": 21,
   "id": "3520f063",
   "metadata": {},
   "outputs": [
    {
     "data": {
      "text/plain": [
       "LinearRegression()"
      ]
     },
     "execution_count": 21,
     "metadata": {},
     "output_type": "execute_result"
    }
   ],
   "source": [
    "linear_reg = LinearRegression()\n",
    "linear_reg.fit(X_train, y_train)"
   ]
  },
  {
   "cell_type": "code",
   "execution_count": 22,
   "id": "51292562",
   "metadata": {},
   "outputs": [
    {
     "data": {
      "text/plain": [
       "array([70.50367074, 66.13914837, 67.56769562, ..., 67.77473343,\n",
       "       79.51953828, 71.80809713])"
      ]
     },
     "execution_count": 22,
     "metadata": {},
     "output_type": "execute_result"
    }
   ],
   "source": [
    "y_pred = linear_reg.predict(X_test)\n",
    "y_pred"
   ]
  },
  {
   "cell_type": "code",
   "execution_count": 23,
   "id": "9cdee63b",
   "metadata": {},
   "outputs": [
    {
     "name": "stdout",
     "output_type": "stream",
     "text": [
      "MAE: 2.136903091064806\n",
      "MSE: 7.815163138949423\n",
      "RMSE: 2.795561328060864\n"
     ]
    }
   ],
   "source": [
    "print(f'MAE: {mean_absolute_error(y_test, y_pred)}')\n",
    "print(f'MSE: {mean_squared_error(y_test, y_pred)}')\n",
    "print(f'RMSE: {sqrt(mean_squared_error(y_test, y_pred))}')\n"
   ]
  },
  {
   "cell_type": "code",
   "execution_count": 24,
   "id": "5c42704e",
   "metadata": {},
   "outputs": [],
   "source": [
    "from sklearn.metrics import mean_absolute_error"
   ]
  },
  {
   "cell_type": "markdown",
   "id": "dbf7ea53",
   "metadata": {},
   "source": [
    "#### Decision Tree Regressor: Fit a new regression model to the training set"
   ]
  },
  {
   "cell_type": "code",
   "execution_count": 25,
   "id": "237bb947",
   "metadata": {},
   "outputs": [
    {
     "data": {
      "text/plain": [
       "DecisionTreeRegressor(max_depth=20)"
      ]
     },
     "execution_count": 25,
     "metadata": {},
     "output_type": "execute_result"
    }
   ],
   "source": [
    "d_tree_reg = DecisionTreeRegressor(max_depth=20)\n",
    "d_tree_reg.fit(X_train, y_train)"
   ]
  },
  {
   "cell_type": "code",
   "execution_count": 26,
   "id": "1da7c7fd",
   "metadata": {},
   "outputs": [
    {
     "data": {
      "text/plain": [
       "array([72.06666667, 70.        , 68.        , ..., 67.        ,\n",
       "       83.        , 74.        ])"
      ]
     },
     "execution_count": 26,
     "metadata": {},
     "output_type": "execute_result"
    }
   ],
   "source": [
    "y_pred = d_tree_reg.predict(X_test)\n",
    "y_pred"
   ]
  },
  {
   "cell_type": "code",
   "execution_count": 27,
   "id": "d71fe88a",
   "metadata": {},
   "outputs": [
    {
     "name": "stdout",
     "output_type": "stream",
     "text": [
      "MAE: 0.7225393188717042\n",
      "MSE: 2.0514476227513105\n",
      "RMSE: 1.4322875489060536\n"
     ]
    }
   ],
   "source": [
    "print(f'MAE: {mean_absolute_error(y_test, y_pred)}')\n",
    "\n",
    "print(f'MSE: {mean_squared_error(y_test, y_pred)}')\n",
    "print(f'RMSE: {sqrt(mean_squared_error(y_test, y_pred))}')"
   ]
  },
  {
   "cell_type": "code",
   "execution_count": 28,
   "id": "d9a53db4",
   "metadata": {},
   "outputs": [],
   "source": [
    "d1= pd.Series(['potential', 'preferred_foot',\n",
    "       'attacking_work_rate', 'defensive_work_rate', 'crossing',\n",
    "       'finishing', 'heading_accuracy', 'short_passing', 'volleys',\n",
    "       'dribbling', 'curve', 'free_kick_accuracy', 'long_passing',\n",
    "       'ball_control', 'acceleration', 'sprint_speed', 'agility',\n",
    "       'reactions', 'balance', 'shot_power', 'jumping', 'stamina',\n",
    "       'strength', 'long_shots', 'aggression', 'interceptions',\n",
    "       'positioning', 'vision', 'penalties', 'marking', 'standing_tackle',\n",
    "       'sliding_tackle', 'gk_diving', 'gk_handling', 'gk_kicking',\n",
    "       'gk_positioning', 'gk_reflexes'])"
   ]
  },
  {
   "cell_type": "code",
   "execution_count": 29,
   "id": "5a62c90c",
   "metadata": {},
   "outputs": [
    {
     "data": {
      "image/png": "[encoded data removed]",
      "text/plain": [
       "<Figure size 720x720 with 1 Axes>"
      ]
     },
     "metadata": {
      "needs_background": "light"
     },
     "output_type": "display_data"
    }
   ],
   "source": [
    "importance = d_tree_reg.feature_importances_\n",
    "\n",
    "importance = pd.Series(d_tree_reg.feature_importances_)\n",
    "d = pd.DataFrame({'Importance': (importance)*100, 'ColumnName': d1})\n",
    "d.sort_values(by='Importance', ascending=True, inplace=True)\n",
    "\n",
    "# summarize feature importance\n",
    "# for i,v in enumerate(importance):\n",
    "#     print('Feature: %0d, Score: %.5f' % (i,v))\n",
    "\n",
    "# plot feature importance\n",
    "plt.figure(figsize=[10,10])\n",
    "plt.barh(d['ColumnName'], d['Importance'])\n",
    "plt.show()"
   ]
  },
  {
   "cell_type": "code",
   "execution_count": 31,
   "id": "6ddb17da",
   "metadata": {},
   "outputs": [
    {
     "data": {
      "text/html": [
       "<div>\n",
       "<style scoped>\n",
       "    .dataframe tbody tr th:only-of-type {\n",
       "        vertical-align: middle;\n",
       "    }\n",
       "\n",
       "    .dataframe tbody tr th {\n",
       "        vertical-align: top;\n",
       "    }\n",
       "\n",
       "    .dataframe thead th {\n",
       "        text-align: right;\n",
       "    }\n",
       "</style>\n",
       "<table border=\"1\" class=\"dataframe\">\n",
       "  <thead>\n",
       "    <tr style=\"text-align: right;\">\n",
       "      <th></th>\n",
       "      <th>Importance</th>\n",
       "      <th>ColumnName</th>\n",
       "    </tr>\n",
       "  </thead>\n",
       "  <tbody>\n",
       "    <tr>\n",
       "      <th>0</th>\n",
       "      <td>48.300620</td>\n",
       "      <td>reactions</td>\n",
       "    </tr>\n",
       "    <tr>\n",
       "      <th>1</th>\n",
       "      <td>23.844913</td>\n",
       "      <td>potential</td>\n",
       "    </tr>\n",
       "    <tr>\n",
       "      <th>2</th>\n",
       "      <td>5.700008</td>\n",
       "      <td>ball_control</td>\n",
       "    </tr>\n",
       "    <tr>\n",
       "      <th>3</th>\n",
       "      <td>4.268800</td>\n",
       "      <td>standing_tackle</td>\n",
       "    </tr>\n",
       "    <tr>\n",
       "      <th>4</th>\n",
       "      <td>2.152917</td>\n",
       "      <td>gk_diving</td>\n",
       "    </tr>\n",
       "    <tr>\n",
       "      <th>5</th>\n",
       "      <td>1.729345</td>\n",
       "      <td>heading_accuracy</td>\n",
       "    </tr>\n",
       "    <tr>\n",
       "      <th>6</th>\n",
       "      <td>1.282525</td>\n",
       "      <td>gk_positioning</td>\n",
       "    </tr>\n",
       "    <tr>\n",
       "      <th>7</th>\n",
       "      <td>1.158987</td>\n",
       "      <td>positioning</td>\n",
       "    </tr>\n",
       "    <tr>\n",
       "      <th>8</th>\n",
       "      <td>1.130552</td>\n",
       "      <td>gk_handling</td>\n",
       "    </tr>\n",
       "    <tr>\n",
       "      <th>9</th>\n",
       "      <td>0.965466</td>\n",
       "      <td>marking</td>\n",
       "    </tr>\n",
       "    <tr>\n",
       "      <th>10</th>\n",
       "      <td>0.930668</td>\n",
       "      <td>crossing</td>\n",
       "    </tr>\n",
       "    <tr>\n",
       "      <th>11</th>\n",
       "      <td>0.901907</td>\n",
       "      <td>strength</td>\n",
       "    </tr>\n",
       "    <tr>\n",
       "      <th>12</th>\n",
       "      <td>0.872541</td>\n",
       "      <td>interceptions</td>\n",
       "    </tr>\n",
       "    <tr>\n",
       "      <th>13</th>\n",
       "      <td>0.785831</td>\n",
       "      <td>dribbling</td>\n",
       "    </tr>\n",
       "    <tr>\n",
       "      <th>14</th>\n",
       "      <td>0.785643</td>\n",
       "      <td>finishing</td>\n",
       "    </tr>\n",
       "    <tr>\n",
       "      <th>15</th>\n",
       "      <td>0.762640</td>\n",
       "      <td>shot_power</td>\n",
       "    </tr>\n",
       "    <tr>\n",
       "      <th>16</th>\n",
       "      <td>0.422353</td>\n",
       "      <td>gk_reflexes</td>\n",
       "    </tr>\n",
       "    <tr>\n",
       "      <th>17</th>\n",
       "      <td>0.395821</td>\n",
       "      <td>short_passing</td>\n",
       "    </tr>\n",
       "    <tr>\n",
       "      <th>18</th>\n",
       "      <td>0.379785</td>\n",
       "      <td>aggression</td>\n",
       "    </tr>\n",
       "    <tr>\n",
       "      <th>19</th>\n",
       "      <td>0.379280</td>\n",
       "      <td>stamina</td>\n",
       "    </tr>\n",
       "  </tbody>\n",
       "</table>\n",
       "</div>"
      ],
      "text/plain": [
       "    Importance        ColumnName\n",
       "0    48.300620         reactions\n",
       "1    23.844913         potential\n",
       "2     5.700008      ball_control\n",
       "3     4.268800   standing_tackle\n",
       "4     2.152917         gk_diving\n",
       "5     1.729345  heading_accuracy\n",
       "6     1.282525    gk_positioning\n",
       "7     1.158987       positioning\n",
       "8     1.130552       gk_handling\n",
       "9     0.965466           marking\n",
       "10    0.930668          crossing\n",
       "11    0.901907          strength\n",
       "12    0.872541     interceptions\n",
       "13    0.785831         dribbling\n",
       "14    0.785643         finishing\n",
       "15    0.762640        shot_power\n",
       "16    0.422353       gk_reflexes\n",
       "17    0.395821     short_passing\n",
       "18    0.379785        aggression\n",
       "19    0.379280           stamina"
      ]
     },
     "execution_count": 31,
     "metadata": {},
     "output_type": "execute_result"
    }
   ],
   "source": [
    "df_top_20 = d.nlargest(20, 'Importance').reset_index()\n",
    "df_top_20.drop(['index'], axis=1, inplace=True)\n",
    "df_top_20"
   ]
  },
  {
   "cell_type": "code",
   "execution_count": 32,
   "id": "e6f22fac",
   "metadata": {},
   "outputs": [
    {
     "data": {
      "text/plain": [
       "array(['reactions', 'potential', 'ball_control', 'standing_tackle',\n",
       "       'gk_diving', 'heading_accuracy', 'gk_positioning', 'positioning',\n",
       "       'gk_handling', 'marking', 'crossing', 'strength', 'interceptions',\n",
       "       'dribbling', 'finishing', 'shot_power', 'gk_reflexes',\n",
       "       'short_passing', 'aggression', 'stamina'], dtype=object)"
      ]
     },
     "execution_count": 32,
     "metadata": {},
     "output_type": "execute_result"
    }
   ],
   "source": [
    "df_top_20['ColumnName'].values"
   ]
  },
  {
   "cell_type": "code",
   "execution_count": 51,
   "id": "fcd1dfaa",
   "metadata": {},
   "outputs": [],
   "source": [
    "X_20 = df[['aggression', 'stamina', 'reactions', 'potential', 'positioning', 'ball_control', 'strength', 'marking', \n",
    "           'crossing', 'finishing', 'dribbling','interceptions',  'standing_tackle','heading_accuracy', 'shot_power', \n",
    "           'short_passing','gk_reflexes', 'gk_handling', 'gk_diving', 'gk_positioning']]"
   ]
  },
  {
   "cell_type": "markdown",
   "id": "9bbed364",
   "metadata": {},
   "source": [
    "#### Re Building the Models with Top 20 Features"
   ]
  },
  {
   "cell_type": "markdown",
   "id": "76a1faa4",
   "metadata": {},
   "source": [
    "#### Train Test Split"
   ]
  },
  {
   "cell_type": "code",
   "execution_count": 52,
   "id": "0ab1d302",
   "metadata": {},
   "outputs": [],
   "source": [
    "X_train, X_test, y_train, y_test = train_test_split(X_20, Y, test_size=0.3)"
   ]
  },
  {
   "cell_type": "markdown",
   "id": "ac0deae7",
   "metadata": {},
   "source": [
    "#### Linear Regression: Fit a model to the training set"
   ]
  },
  {
   "cell_type": "code",
   "execution_count": 53,
   "id": "cc2b0656",
   "metadata": {},
   "outputs": [
    {
     "data": {
      "text/plain": [
       "LinearRegression()"
      ]
     },
     "execution_count": 53,
     "metadata": {},
     "output_type": "execute_result"
    }
   ],
   "source": [
    "linear_reg = LinearRegression()\n",
    "linear_reg.fit(X_train, y_train)"
   ]
  },
  {
   "cell_type": "code",
   "execution_count": 54,
   "id": "f62510d8",
   "metadata": {},
   "outputs": [
    {
     "data": {
      "text/plain": [
       "array([79.54478546, 65.26914322, 64.76666428, ..., 73.99359371,\n",
       "       68.70168534, 62.9803517 ])"
      ]
     },
     "execution_count": 54,
     "metadata": {},
     "output_type": "execute_result"
    }
   ],
   "source": [
    "y_pred = linear_reg.predict(X_test)\n",
    "y_pred"
   ]
  },
  {
   "cell_type": "code",
   "execution_count": 55,
   "id": "53d90a7e",
   "metadata": {},
   "outputs": [
    {
     "name": "stdout",
     "output_type": "stream",
     "text": [
      "MAE: 2.186518181601008\n",
      "MSE: 8.092515847908842\n",
      "RMSE: 2.8447347587971787\n"
     ]
    }
   ],
   "source": [
    "print(f'MAE: {mean_absolute_error(y_test, y_pred)}')\n",
    "print(f'MSE: {mean_squared_error(y_test, y_pred)}')\n",
    "print(f'RMSE: {sqrt(mean_squared_error(y_test, y_pred))}')\n"
   ]
  },
  {
   "cell_type": "code",
   "execution_count": null,
   "id": "e58b83bd",
   "metadata": {},
   "outputs": [],
   "source": []
  },
  {
   "cell_type": "markdown",
   "id": "b0c13e8c",
   "metadata": {},
   "source": [
    "#### Decision Tree Regressor: Fit a new regression model to the training set"
   ]
  },
  {
   "cell_type": "code",
   "execution_count": 56,
   "id": "adbbfa84",
   "metadata": {},
   "outputs": [
    {
     "data": {
      "text/plain": [
       "DecisionTreeRegressor(max_depth=20)"
      ]
     },
     "execution_count": 56,
     "metadata": {},
     "output_type": "execute_result"
    }
   ],
   "source": [
    "d_tree_reg = DecisionTreeRegressor(max_depth=20)\n",
    "d_tree_reg.fit(X_train, y_train)"
   ]
  },
  {
   "cell_type": "code",
   "execution_count": 57,
   "id": "3ce811cb",
   "metadata": {},
   "outputs": [
    {
     "data": {
      "text/plain": [
       "array([75.83333333, 62.46666667, 58.75      , ..., 77.        ,\n",
       "       71.29411765, 63.        ])"
      ]
     },
     "execution_count": 57,
     "metadata": {},
     "output_type": "execute_result"
    }
   ],
   "source": [
    "y_pred = d_tree_reg.predict(X_test)\n",
    "y_pred"
   ]
  },
  {
   "cell_type": "code",
   "execution_count": 58,
   "id": "0a6c7899",
   "metadata": {},
   "outputs": [
    {
     "name": "stdout",
     "output_type": "stream",
     "text": [
      "MAE: 0.7292036660587082\n",
      "MSE: 2.021604161854793\n",
      "RMSE: 1.42183127052924\n"
     ]
    }
   ],
   "source": [
    "print(f'MAE: {mean_absolute_error(y_test, y_pred)}')\n",
    "\n",
    "print(f'MSE: {mean_squared_error(y_test, y_pred)}')\n",
    "print(f'RMSE: {sqrt(mean_squared_error(y_test, y_pred))}')"
   ]
  },
  {
   "cell_type": "code",
   "execution_count": null,
   "id": "845b9b98",
   "metadata": {},
   "outputs": [],
   "source": []
  },
  {
   "cell_type": "markdown",
   "id": "6fee8c62",
   "metadata": {},
   "source": [
    "#### Testing the Decision Tree Regressor with 20 Features"
   ]
  },
  {
   "cell_type": "code",
   "execution_count": 59,
   "id": "d1c7b145",
   "metadata": {},
   "outputs": [
    {
     "data": {
      "text/html": [
       "<div>\n",
       "<style scoped>\n",
       "    .dataframe tbody tr th:only-of-type {\n",
       "        vertical-align: middle;\n",
       "    }\n",
       "\n",
       "    .dataframe tbody tr th {\n",
       "        vertical-align: top;\n",
       "    }\n",
       "\n",
       "    .dataframe thead th {\n",
       "        text-align: right;\n",
       "    }\n",
       "</style>\n",
       "<table border=\"1\" class=\"dataframe\">\n",
       "  <thead>\n",
       "    <tr style=\"text-align: right;\">\n",
       "      <th></th>\n",
       "      <th>aggression</th>\n",
       "      <th>stamina</th>\n",
       "      <th>reactions</th>\n",
       "      <th>potential</th>\n",
       "      <th>positioning</th>\n",
       "      <th>ball_control</th>\n",
       "      <th>strength</th>\n",
       "      <th>marking</th>\n",
       "      <th>crossing</th>\n",
       "      <th>finishing</th>\n",
       "      <th>dribbling</th>\n",
       "      <th>interceptions</th>\n",
       "      <th>standing_tackle</th>\n",
       "      <th>heading_accuracy</th>\n",
       "      <th>shot_power</th>\n",
       "      <th>short_passing</th>\n",
       "      <th>gk_reflexes</th>\n",
       "      <th>gk_handling</th>\n",
       "      <th>gk_diving</th>\n",
       "      <th>gk_positioning</th>\n",
       "    </tr>\n",
       "  </thead>\n",
       "  <tbody>\n",
       "    <tr>\n",
       "      <th>0</th>\n",
       "      <td>71.0</td>\n",
       "      <td>54.0</td>\n",
       "      <td>47.0</td>\n",
       "      <td>71.0</td>\n",
       "      <td>45.0</td>\n",
       "      <td>49.0</td>\n",
       "      <td>76.0</td>\n",
       "      <td>65.0</td>\n",
       "      <td>49.0</td>\n",
       "      <td>44.0</td>\n",
       "      <td>51.0</td>\n",
       "      <td>70.0</td>\n",
       "      <td>69.0</td>\n",
       "      <td>71.0</td>\n",
       "      <td>55.0</td>\n",
       "      <td>61.0</td>\n",
       "      <td>8.0</td>\n",
       "      <td>11.0</td>\n",
       "      <td>6.0</td>\n",
       "      <td>8.0</td>\n",
       "    </tr>\n",
       "  </tbody>\n",
       "</table>\n",
       "</div>"
      ],
      "text/plain": [
       "   aggression  stamina  reactions  potential  positioning  ball_control  \\\n",
       "0        71.0     54.0       47.0       71.0         45.0          49.0   \n",
       "\n",
       "   strength  marking  crossing  finishing  dribbling  interceptions  \\\n",
       "0      76.0     65.0      49.0       44.0       51.0           70.0   \n",
       "\n",
       "   standing_tackle  heading_accuracy  shot_power  short_passing  gk_reflexes  \\\n",
       "0             69.0              71.0        55.0           61.0          8.0   \n",
       "\n",
       "   gk_handling  gk_diving  gk_positioning  \n",
       "0         11.0        6.0             8.0  "
      ]
     },
     "execution_count": 59,
     "metadata": {},
     "output_type": "execute_result"
    }
   ],
   "source": [
    "X_20.head(1)"
   ]
  },
  {
   "cell_type": "code",
   "execution_count": 66,
   "id": "25d41522",
   "metadata": {},
   "outputs": [
    {
     "data": {
      "text/plain": [
       "array([66.])"
      ]
     },
     "execution_count": 66,
     "metadata": {},
     "output_type": "execute_result"
    }
   ],
   "source": [
    "data =[[80,65, 50,70,5,80,8,80,65,80,60,80,80,0,80,80,80,80,5,80]]\n",
    "d_tree_reg.predict(data)"
   ]
  },
  {
   "cell_type": "code",
   "execution_count": null,
   "id": "2778f65a",
   "metadata": {},
   "outputs": [],
   "source": []
  },
  {
   "cell_type": "markdown",
   "id": "5953d1f8",
   "metadata": {},
   "source": [
    "### Pickle File For Deployment"
   ]
  },
  {
   "cell_type": "code",
   "execution_count": 67,
   "id": "d1bd5e1e",
   "metadata": {},
   "outputs": [],
   "source": [
    "import pickle\n",
    "\n",
    "# Open a file \n",
    "file = open('ml_project.pkl', 'wb')\n",
    "\n",
    "# dump information to that file\n",
    "pickle.dump(d_tree_reg,file)"
   ]
  },
  {
   "cell_type": "code",
   "execution_count": 70,
   "id": "b16b48ae",
   "metadata": {},
   "outputs": [
    {
     "data": {
      "text/plain": [
       "66.0"
      ]
     },
     "execution_count": 70,
     "metadata": {},
     "output_type": "execute_result"
    }
   ],
   "source": [
    "d = np.array([80,65, 50,70,5,80,8,80,65,80,60,80,80,0,80,80,80,80,5,80]).reshape(1,-1)\n",
    "# Actual Value :- 24\n",
    "\n",
    "model = pickle.load(open('ml_project.pkl', 'rb'))\n",
    "prediction = model.predict(d)\n",
    "output = prediction[0]\n",
    "output\n",
    "\n",
    "# Deployed model with 20 attributes"
   ]
  },
  {
   "cell_type": "code",
   "execution_count": null,
   "id": "c69a46e1",
   "metadata": {},
   "outputs": [],
   "source": []
  }
 ],
 "metadata": {
  "kernelspec": {
   "display_name": "Python 3",
   "language": "python",
   "name": "python3"
  },
  "language_info": {
   "codemirror_mode": {
    "name": "ipython",
    "version": 3
   },
   "file_extension": ".py",
   "mimetype": "text/x-python",
   "name": "python",
   "nbconvert_exporter": "python",
   "pygments_lexer": "ipython3",
   "version": "3.8.8"
  }
 },
 "nbformat": 4,
 "nbformat_minor": 5
}
